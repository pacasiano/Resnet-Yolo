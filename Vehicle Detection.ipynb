{
 "cells": [
  {
   "cell_type": "markdown",
   "metadata": {},
   "source": [
    "# Vehicle Detection using YOLO with ResNet feature extractor#"
   ]
  },
  {
   "cell_type": "markdown",
   "metadata": {},
   "source": [
    "** Main video pipeline for the Vehicle Detection project **"
   ]
  },
  {
   "cell_type": "markdown",
   "metadata": {},
   "source": [
    "#### Imports ####"
   ]
  },
  {
   "cell_type": "code",
   "execution_count": null,
   "metadata": {},
   "outputs": [],
   "source": [
    "import sys\n",
    "import numpy as np\n",
    "import cv2\n",
    "import utils\n",
    "import matplotlib.pyplot as plt\n",
    "from model_continue_train import ResNet50\n",
    "import time\n",
    "from moviepy.editor import VideoFileClip\n",
    "\n",
    "%matplotlib inline"
   ]
  },
  {
   "cell_type": "markdown",
   "metadata": {},
   "source": [
    "### Create & Load Model ###"
   ]
  },
  {
   "cell_type": "code",
   "execution_count": null,
   "metadata": {},
   "outputs": [],
   "source": [
    "%time model = ResNet50(include_top=False, load_weight=True, weights='models/rerun9_0.01_weights.02-2.05.hdf5', input_shape=(224,224,3))"
   ]
  },
  {
   "cell_type": "markdown",
   "metadata": {},
   "source": [
    "#### Image Processing Pipeline: ####"
   ]
  },
  {
   "cell_type": "code",
   "execution_count": null,
   "metadata": {},
   "outputs": [],
   "source": [
    "def process_img(img):\n",
    "    dims = (img.shape[1], img.shape[0])\n",
    "    img_bgr = cv2.cvtColor(img, cv2.COLOR_RGB2BGR)\n",
    "    img_float = cv2.resize(img_bgr, (224,224)).astype(np.float32)\n",
    "    img_float -= 128\n",
    "    img_in = np.expand_dims(img_float, axis=0)\n",
    "    \n",
    "    pred = model.predict(img_in)\n",
    "    \n",
    "    bboxes = utils.get_boxes(pred[0], cutoff=0.2, dims=dims)\n",
    "    bboxes = utils.nonmax_suppression(bboxes, iou_cutoff = 0.05)\n",
    "    draw = utils.draw_boxes(img, bboxes, color=(0, 255, 0), thick=5, draw_dot=False, radius=3)\n",
    "    draw = draw.astype(np.uint8)\n",
    "    \n",
    "    return draw"
   ]
  },
  {
   "cell_type": "code",
   "execution_count": null,
   "metadata": {},
   "outputs": [],
   "source": [
    "### Test pipeline on image from dataset itself\n",
    "img = cv2.imread('test_img2.jpg')\n",
    "img = cv2.cvtColor(img, cv2.COLOR_BGR2RGB)\n",
    "plt.figure(figsize=(8,6))\n",
    "plt.imshow(process_img(img))"
   ]
  },
  {
   "cell_type": "code",
   "execution_count": null,
   "metadata": {},
   "outputs": [],
   "source": [
    "### Test pipeline on image the network has never seen before\n",
    "img = cv2.imread('test_img.jpg')\n",
    "img = cv2.cvtColor(img, cv2.COLOR_BGR2RGB)\n",
    "plt.figure(figsize=(8,6))\n",
    "plt.imshow(process_img(img))"
   ]
  },
  {
   "cell_type": "markdown",
   "metadata": {},
   "source": [
    "#### Apply to video: ####"
   ]
  },
  {
   "cell_type": "code",
   "execution_count": null,
   "metadata": {},
   "outputs": [],
   "source": [
    "video1 = 'project_video.mp4'\n",
    "video1_output = 'project_video_output2.mp4'\n",
    "clip1 = VideoFileClip(video1)#.subclip(30,36)\n",
    "imgs = clip1.fl_image(process_img)\n",
    "%time imgs.write_videofile(video1_output, audio=False)"
   ]
  },
  {
   "cell_type": "code",
   "execution_count": null,
   "metadata": {},
   "outputs": [],
   "source": []
  }
 ],
 "metadata": {
  "kernelspec": {
   "display_name": "Python 3",
   "language": "python",
   "name": "python3"
  },
  "language_info": {
   "codemirror_mode": {
    "name": "ipython",
    "version": 3
   },
   "file_extension": ".py",
   "mimetype": "text/x-python",
   "name": "python",
   "nbconvert_exporter": "python",
   "pygments_lexer": "ipython3",
   "version": "3.11.3"
  },
  "widgets": {
   "state": {},
   "version": "1.1.2"
  }
 },
 "nbformat": 4,
 "nbformat_minor": 2
}
